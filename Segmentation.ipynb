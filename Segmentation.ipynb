{
  "nbformat": 4,
  "nbformat_minor": 0,
  "metadata": {
    "colab": {
      "provenance": []
    },
    "kernelspec": {
      "name": "python3",
      "display_name": "Python 3"
    },
    "language_info": {
      "name": "python"
    },
    "accelerator": "GPU",
    "gpuClass": "standard"
  },
  "cells": [
    {
      "cell_type": "code",
      "source": [
        "!wget https://github.com/AhmedHashish123/SSIW/archive/refs/heads/master.zip"
      ],
      "metadata": {
        "colab": {
          "base_uri": "https://localhost:8080/"
        },
        "id": "s8k0K3Q89u_Z",
        "outputId": "178e1b38-5797-4e8d-977a-75c30581fe03"
      },
      "execution_count": 1,
      "outputs": [
        {
          "output_type": "stream",
          "name": "stdout",
          "text": [
            "--2023-03-06 14:38:15--  https://github.com/AhmedHashish123/SSIW/archive/refs/heads/master.zip\n",
            "Resolving github.com (github.com)... 140.82.114.3\n",
            "Connecting to github.com (github.com)|140.82.114.3|:443... connected.\n",
            "HTTP request sent, awaiting response... 302 Found\n",
            "Location: https://codeload.github.com/AhmedHashish123/SSIW/zip/refs/heads/master [following]\n",
            "--2023-03-06 14:38:16--  https://codeload.github.com/AhmedHashish123/SSIW/zip/refs/heads/master\n",
            "Resolving codeload.github.com (codeload.github.com)... 140.82.114.9\n",
            "Connecting to codeload.github.com (codeload.github.com)|140.82.114.9|:443... connected.\n",
            "HTTP request sent, awaiting response... 200 OK\n",
            "Length: unspecified [application/zip]\n",
            "Saving to: ‘master.zip’\n",
            "\n",
            "master.zip              [  <=>               ]   7.78M  22.6MB/s    in 0.3s    \n",
            "\n",
            "2023-03-06 14:38:16 (22.6 MB/s) - ‘master.zip’ saved [8161352]\n",
            "\n"
          ]
        }
      ]
    },
    {
      "cell_type": "code",
      "source": [
        "!unzip master.zip"
      ],
      "metadata": {
        "id": "SNgtoLk294Ln"
      },
      "execution_count": null,
      "outputs": []
    },
    {
      "cell_type": "code",
      "source": [
        "!pip install mmcv\n",
        "!pip install mmsegmentation\n",
        "!pip install opencv-python\n",
        "!pip install openmim\n",
        "!pip install pip-chill\n",
        "!pip install timm\n",
        "!pip install openai-clip\n",
        "!pip install segmentation-models-pytorch"
      ],
      "metadata": {
        "id": "H8tkKaTpKNJB"
      },
      "execution_count": null,
      "outputs": []
    },
    {
      "cell_type": "code",
      "source": [
        "import os\n",
        "import shutil"
      ],
      "metadata": {
        "id": "rWyiH_YnHKB5"
      },
      "execution_count": 4,
      "outputs": []
    },
    {
      "cell_type": "code",
      "source": [
        "os.remove(\"master.zip\")"
      ],
      "metadata": {
        "id": "8Ubpx7AHHL8-"
      },
      "execution_count": 5,
      "outputs": []
    },
    {
      "cell_type": "code",
      "source": [
        "cd /content/SSIW-master/Test_Minist/"
      ],
      "metadata": {
        "id": "z2QMkRoz_cWG",
        "colab": {
          "base_uri": "https://localhost:8080/"
        },
        "outputId": "f660459a-9bcd-4369-bd01-db359dbca9cb"
      },
      "execution_count": 6,
      "outputs": [
        {
          "output_type": "stream",
          "name": "stdout",
          "text": [
            "/content/SSIW-master/Test_Minist\n"
          ]
        }
      ]
    },
    {
      "cell_type": "code",
      "execution_count": 7,
      "metadata": {
        "colab": {
          "base_uri": "https://localhost:8080/"
        },
        "id": "ASzVwRh9GNlJ",
        "outputId": "51472377-2bbd-425e-e28f-a56ab38cb1a7"
      },
      "outputs": [
        {
          "output_type": "stream",
          "name": "stdout",
          "text": [
            "--2023-03-06 14:39:28--  https://cmp.felk.cvut.cz/~tylecr1/facade/CMP_facade_DB_base.zip\n",
            "Resolving cmp.felk.cvut.cz (cmp.felk.cvut.cz)... 147.32.84.2\n",
            "Connecting to cmp.felk.cvut.cz (cmp.felk.cvut.cz)|147.32.84.2|:443... connected.\n",
            "HTTP request sent, awaiting response... 200 OK\n",
            "Length: 36517004 (35M) [application/zip]\n",
            "Saving to: ‘CMP_facade_DB_base.zip’\n",
            "\n",
            "CMP_facade_DB_base. 100%[===================>]  34.83M  12.5MB/s    in 2.8s    \n",
            "\n",
            "2023-03-06 14:39:31 (12.5 MB/s) - ‘CMP_facade_DB_base.zip’ saved [36517004/36517004]\n",
            "\n"
          ]
        }
      ],
      "source": [
        "!wget https://cmp.felk.cvut.cz/~tylecr1/facade/CMP_facade_DB_base.zip"
      ]
    },
    {
      "cell_type": "code",
      "source": [
        "!unzip CMP_facade_DB_base.zip"
      ],
      "metadata": {
        "id": "bx9-wiYNGUOx"
      },
      "execution_count": null,
      "outputs": []
    },
    {
      "cell_type": "code",
      "source": [
        "os.remove(\"CMP_facade_DB_base.zip\")"
      ],
      "metadata": {
        "id": "7NDwdL5UHCtZ"
      },
      "execution_count": 9,
      "outputs": []
    },
    {
      "cell_type": "code",
      "source": [
        "!mkdir models"
      ],
      "metadata": {
        "id": "bNbk_ugzQoVW"
      },
      "execution_count": 10,
      "outputs": []
    },
    {
      "cell_type": "code",
      "source": [
        "cd /content/SSIW-master/Test_Minist/models/"
      ],
      "metadata": {
        "id": "bUrm1X-OQrtm",
        "colab": {
          "base_uri": "https://localhost:8080/"
        },
        "outputId": "ca663042-4c6b-4067-cfca-e2772d6ba5dc"
      },
      "execution_count": 11,
      "outputs": [
        {
          "output_type": "stream",
          "name": "stdout",
          "text": [
            "/content/SSIW-master/Test_Minist/models\n"
          ]
        }
      ]
    },
    {
      "cell_type": "code",
      "source": [
        "!wget -O segformer_7data.pth https://cloudstor.aarnet.edu.au/plus/s/AtYYaVSVVAlEwve/download"
      ],
      "metadata": {
        "colab": {
          "base_uri": "https://localhost:8080/"
        },
        "id": "rRZkGHkSQu1j",
        "outputId": "7f59f999-17cd-4477-8a08-a1fc7318758f"
      },
      "execution_count": 12,
      "outputs": [
        {
          "output_type": "stream",
          "name": "stdout",
          "text": [
            "--2023-03-06 14:39:32--  https://cloudstor.aarnet.edu.au/plus/s/AtYYaVSVVAlEwve/download\n",
            "Resolving cloudstor.aarnet.edu.au (cloudstor.aarnet.edu.au)... 202.158.207.20\n",
            "Connecting to cloudstor.aarnet.edu.au (cloudstor.aarnet.edu.au)|202.158.207.20|:443... connected.\n",
            "HTTP request sent, awaiting response... 200 OK\n",
            "Syntax error in Set-Cookie: 5230042dc1897=f16nkcij1l9g2gav9jnosucln3; path=/plus;; Secure; SameSite=Lax at position 53.\n",
            "Syntax error in Set-Cookie: oc_sessionPassphrase=ePbaQVYeOz%2F2MO9emb%2FadkbwuVxO7U004uXlvIKkmw5LDK23sMKyOSaJGVG57fi%2Fqejy9mjdzqN0H%2BFHyZQeRM3YlPYsfELAsUC4ZIN3o8utm37YGhbEEewTwUdgJ8JE; expires=Tue, 07-Mar-2023 14:39:33 GMT; Max-Age=86400; path=/plus;; Secure; SameSite=Lax at position 224.\n",
            "Length: 1031789804 (984M) [application/octet-stream]\n",
            "Saving to: ‘segformer_7data.pth’\n",
            "\n",
            "segformer_7data.pth 100%[===================>] 983.99M  14.9MB/s    in 65s     \n",
            "\n",
            "2023-03-06 14:40:38 (15.2 MB/s) - ‘segformer_7data.pth’ saved [1031789804/1031789804]\n",
            "\n"
          ]
        }
      ]
    },
    {
      "cell_type": "code",
      "source": [
        "!wget -O universal_cat2vec.npy https://cloudstor.aarnet.edu.au/plus/s/gXaGsZyvoUwu97t/download"
      ],
      "metadata": {
        "colab": {
          "base_uri": "https://localhost:8080/"
        },
        "id": "_ARmmt2fQzfs",
        "outputId": "bd31380a-ba39-445d-9a34-fbd2912e6cb7"
      },
      "execution_count": 13,
      "outputs": [
        {
          "output_type": "stream",
          "name": "stdout",
          "text": [
            "--2023-03-06 14:40:50--  https://cloudstor.aarnet.edu.au/plus/s/gXaGsZyvoUwu97t/download\n",
            "Resolving cloudstor.aarnet.edu.au (cloudstor.aarnet.edu.au)... 202.158.207.20\n",
            "Connecting to cloudstor.aarnet.edu.au (cloudstor.aarnet.edu.au)|202.158.207.20|:443... connected.\n",
            "HTTP request sent, awaiting response... 200 OK\n",
            "Syntax error in Set-Cookie: 5230042dc1897=qo08ciau1u1r2fm7e634735mcv; path=/plus;; Secure; SameSite=Lax at position 53.\n",
            "Syntax error in Set-Cookie: oc_sessionPassphrase=R9hEekS9O%2FeeJGYB5KoF5uKfU34XFYgGFGHOMJm9%2FTdi6w8iVa%2B6xFdoL4N%2BaYVw%2FTOrAfqHc05j6tKdPnQNkB6XrNsVNyXkGnEsuDwjwBAGTqIQqAYKN%2FF40CYkS1NL; expires=Tue, 07-Mar-2023 14:40:51 GMT; Max-Age=86400; path=/plus;; Secure; SameSite=Lax at position 228.\n",
            "Length: 397440 (388K) [application/octet-stream]\n",
            "Saving to: ‘universal_cat2vec.npy’\n",
            "\n",
            "universal_cat2vec.n 100%[===================>] 388.12K   507KB/s    in 0.8s    \n",
            "\n",
            "2023-03-06 14:40:53 (507 KB/s) - ‘universal_cat2vec.npy’ saved [397440/397440]\n",
            "\n"
          ]
        }
      ]
    },
    {
      "cell_type": "code",
      "source": [
        "cd /content/SSIW-master/Test_Minist/"
      ],
      "metadata": {
        "id": "KPlnFcWzRreF",
        "colab": {
          "base_uri": "https://localhost:8080/"
        },
        "outputId": "8301e7bd-e4c6-4fac-a264-dbfb4e551219"
      },
      "execution_count": 14,
      "outputs": [
        {
          "output_type": "stream",
          "name": "stdout",
          "text": [
            "/content/SSIW-master/Test_Minist\n"
          ]
        }
      ]
    },
    {
      "cell_type": "code",
      "source": [
        "!mkdir images_folder"
      ],
      "metadata": {
        "id": "0Bb8a7JAtxsq"
      },
      "execution_count": 15,
      "outputs": []
    },
    {
      "cell_type": "code",
      "source": [
        "!mkdir epoch_results"
      ],
      "metadata": {
        "id": "O-eqSC-Z7egn"
      },
      "execution_count": 16,
      "outputs": []
    },
    {
      "cell_type": "code",
      "source": [
        "!mkdir /content/SSIW-master/Test_Minist/images_folder/predictions"
      ],
      "metadata": {
        "id": "vC4z0G_-vNYy"
      },
      "execution_count": 17,
      "outputs": []
    },
    {
      "cell_type": "code",
      "source": [
        "shutil.copyfile(\"/content/SSIW-master/Test_Minist/base/cmp_b0001.jpg\", \"/content/SSIW-master/Test_Minist/images_folder/img1.png\")\n",
        "shutil.copyfile(\"/content/SSIW-master/Test_Minist/base/cmp_b0002.jpg\", \"/content/SSIW-master/Test_Minist/images_folder/img2.png\")\n",
        "shutil.copyfile(\"/content/SSIW-master/Test_Minist/base/cmp_b0003.jpg\", \"/content/SSIW-master/Test_Minist/images_folder/img3.png\")\n",
        "shutil.copyfile(\"/content/SSIW-master/Test_Minist/base/cmp_b0004.jpg\", \"/content/SSIW-master/Test_Minist/images_folder/img4.png\")\n",
        "shutil.copyfile(\"/content/SSIW-master/Test_Minist/base/cmp_b0005.jpg\", \"/content/SSIW-master/Test_Minist/images_folder/img5.png\")\n",
        "shutil.copyfile(\"/content/SSIW-master/Test_Minist/base/cmp_b0006.jpg\", \"/content/SSIW-master/Test_Minist/images_folder/img6.png\")\n",
        "shutil.copyfile(\"/content/SSIW-master/Test_Minist/base/cmp_b0007.jpg\", \"/content/SSIW-master/Test_Minist/images_folder/img7.png\")\n",
        "shutil.copyfile(\"/content/SSIW-master/Test_Minist/base/cmp_b0008.jpg\", \"/content/SSIW-master/Test_Minist/images_folder/img8.png\")"
      ],
      "metadata": {
        "id": "zq3X11HouBDB",
        "colab": {
          "base_uri": "https://localhost:8080/",
          "height": 36
        },
        "outputId": "97b66ee4-7ab6-4c63-c396-987dc89a93c6"
      },
      "execution_count": 18,
      "outputs": [
        {
          "output_type": "execute_result",
          "data": {
            "text/plain": [
              "'/content/SSIW-master/Test_Minist/images_folder/img8.png'"
            ],
            "application/vnd.google.colaboratory.intrinsic+json": {
              "type": "string"
            }
          },
          "metadata": {},
          "execution_count": 18
        }
      ]
    },
    {
      "cell_type": "code",
      "source": [
        "!python tools/test.py --config test_720_ss --user_label dog mouse horse rug_floormat wall person vegetation pizza"
      ],
      "metadata": {
        "id": "HpwcmUUJHyB6",
        "colab": {
          "base_uri": "https://localhost:8080/"
        },
        "outputId": "52e3d84e-b430-4de8-8ade-82518643ea3b"
      },
      "execution_count": 19,
      "outputs": [
        {
          "output_type": "stream",
          "name": "stdout",
          "text": [
            "/usr/local/lib/python3.8/dist-packages/mmcv/__init__.py:20: UserWarning: On January 1, 2023, MMCV will release v2.0.0, in which it will remove components related to the training process and add a data transformation module. In addition, it will rename the package names mmcv to mmcv-lite and mmcv-full to mmcv. See https://github.com/open-mmlab/mmcv/blob/master/docs/en/compatibility.md for more details.\n",
            "  warnings.warn(\n",
            "[2023-03-06 14:41:08,194 INFO test.py line 329 1240] base_size: 720\n",
            "cam_id: 01\n",
            "dataset_lib: dataset\n",
            "distributed: False\n",
            "emb_path: models/universal_cat2vec.npy\n",
            "emd_method: embeddings\n",
            "gpus_num: 1\n",
            "ignore_label: 255\n",
            "img_file_type: png\n",
            "img_folder: image_\n",
            "logit_softmax_weight: 500\n",
            "model_path: models/segformer_7data.pth\n",
            "multi_scale_multi_crop: False\n",
            "new_definitions: None\n",
            "num_model_classes: 512\n",
            "num_train_classes: 194\n",
            "root_dir: /content/SSIW-master/Test_Minist/test_imgs\n",
            "save_folder: ann/semantics\n",
            "scales: [1.0]\n",
            "single_scale_multi_crop: False\n",
            "single_scale_single_crop: True\n",
            "test_gpu: [0]\n",
            "test_h: 640\n",
            "test_w: 640\n",
            "test_with_embeddings: False\n",
            "user_label: ['dog', 'mouse', 'horse', 'rug_floormat', 'wall', 'person', 'vegetation', 'pizza']\n",
            "100%|████████████████████████████████████████| 338M/338M [00:02<00:00, 177MiB/s]\n",
            "0it [00:00, ?it/s]\n",
            "label_names for img1 {4: 'wall', 5: 'person'}\n",
            "1it [00:04,  4.23s/it]\n",
            "label_names for img2 {0: 'dog', 1: 'mouse', 2: 'horse', 4: 'wall', 5: 'person', 6: 'vegetation', 7: 'pizza', 255: 'unlabel'}\n",
            "2it [00:08,  4.15s/it]\n",
            "label_names for img3 {3: 'rug_floormat', 4: 'wall', 5: 'person', 6: 'vegetation', 7: 'pizza', 255: 'unlabel'}\n",
            "3it [00:09,  2.79s/it]\n",
            "label_names for img4 {3: 'rug_floormat', 4: 'wall', 5: 'person', 6: 'vegetation', 255: 'unlabel'}\n",
            "4it [00:10,  2.00s/it]\n",
            "label_names for img5 {2: 'horse', 5: 'person', 6: 'vegetation', 255: 'unlabel'}\n",
            "5it [00:11,  1.61s/it]\n",
            "label_names for img6 {0: 'dog', 6: 'vegetation', 255: 'unlabel'}\n",
            "6it [00:11,  1.26s/it]\n",
            "label_names for img7 {0: 'dog', 3: 'rug_floormat', 4: 'wall', 255: 'unlabel'}\n",
            "7it [00:12,  1.05s/it]\n",
            "label_names for img8 {0: 'dog', 3: 'rug_floormat', 4: 'wall', 255: 'unlabel'}\n",
            "8it [00:13,  1.63s/it]\n"
          ]
        }
      ]
    },
    {
      "cell_type": "code",
      "source": [
        "!python tools/test.py --config test_720_ss --save_folder predictions --root_dir images_folder --img_file_type png --user_label facade window door cornice sill balcony blind deco molding pillar shop --new_definitions=\"{'facade': 'An image of facade. Facade is the front of a building.','window': 'This is an image of window.','door': 'An image of door. Door is a panel that fits into the portal of a building, room, or vehicle.','cornice': 'An image of cornice. A cornice is the decorated projection at the top of a wall.','sill': 'An image of sill. A sill is the bottom horizontal member of a building to which vertical members are attached.','sill': 'An image of balcony. A balcony is a platform enclosed by a wall or balustrade on the outside of a building.','blind ': 'An image of window blind. A window blind is a type of window covering.','deco': 'An image of deco. A deco is a building having a sleek, linear appearance.','molding': 'An image of molding. A molding is a defining, transitional, or terminal element that contours or outlines the edges and surfaces on a projection or cavity.','pillar': 'An image of pillar. A pillar is any isolated, vertical structural member such as a pier, column, or post.','shop': 'An image of a shop. A shop is a building or part of a building where goods or services are sold.'}\""
      ],
      "metadata": {
        "id": "0_FqA93_VIR7",
        "colab": {
          "base_uri": "https://localhost:8080/"
        },
        "outputId": "a2f11c91-8326-42f3-fb38-0b9701830a1f"
      },
      "execution_count": 20,
      "outputs": [
        {
          "output_type": "stream",
          "name": "stdout",
          "text": [
            "/usr/local/lib/python3.8/dist-packages/mmcv/__init__.py:20: UserWarning: On January 1, 2023, MMCV will release v2.0.0, in which it will remove components related to the training process and add a data transformation module. In addition, it will rename the package names mmcv to mmcv-lite and mmcv-full to mmcv. See https://github.com/open-mmlab/mmcv/blob/master/docs/en/compatibility.md for more details.\n",
            "  warnings.warn(\n",
            "[2023-03-06 14:41:47,118 INFO test.py line 329 1430] base_size: 720\n",
            "cam_id: None\n",
            "dataset_lib: dataset\n",
            "distributed: False\n",
            "emb_path: models/universal_cat2vec.npy\n",
            "emd_method: embeddings\n",
            "gpus_num: 1\n",
            "ignore_label: 255\n",
            "img_file_type: png\n",
            "img_folder: image_\n",
            "logit_softmax_weight: 500\n",
            "model_path: models/segformer_7data.pth\n",
            "multi_scale_multi_crop: False\n",
            "new_definitions: {'facade': 'An image of facade. Facade is the front of a building.', 'window': 'This is an image of window.', 'door': 'An image of door. Door is a panel that fits into the portal of a building, room, or vehicle.', 'cornice': 'An image of cornice. A cornice is the decorated projection at the top of a wall.', 'sill': 'An image of balcony. A balcony is a platform enclosed by a wall or balustrade on the outside of a building.', 'blind ': 'An image of window blind. A window blind is a type of window covering.', 'deco': 'An image of deco. A deco is a building having a sleek, linear appearance.', 'molding': 'An image of molding. A molding is a defining, transitional, or terminal element that contours or outlines the edges and surfaces on a projection or cavity.', 'pillar': 'An image of pillar. A pillar is any isolated, vertical structural member such as a pier, column, or post.', 'shop': 'An image of a shop. A shop is a building or part of a building where goods or services are sold.'}\n",
            "num_model_classes: 512\n",
            "num_train_classes: 194\n",
            "root_dir: images_folder\n",
            "save_folder: predictions\n",
            "scales: [1.0]\n",
            "single_scale_multi_crop: False\n",
            "single_scale_single_crop: True\n",
            "test_gpu: [0]\n",
            "test_h: 640\n",
            "test_w: 640\n",
            "test_with_embeddings: False\n",
            "user_label: ['facade', 'window', 'door', 'cornice', 'sill', 'balcony', 'blind', 'deco', 'molding', 'pillar', 'shop']\n",
            "0it [00:00, ?it/s]\n",
            "label_names for img1 {0: 'facade', 1: 'window', 9: 'pillar', 10: 'shop', 255: 'unlabel'}\n",
            "1it [00:01,  1.79s/it]\n",
            "label_names for img2 {0: 'facade', 2: 'door', 10: 'shop', 255: 'unlabel'}\n",
            "2it [00:03,  1.53s/it]\n",
            "label_names for img3 {0: 'facade', 1: 'window', 10: 'shop', 255: 'unlabel'}\n",
            "3it [00:04,  1.41s/it]\n",
            "label_names for img4 {0: 'facade', 1: 'window', 10: 'shop', 255: 'unlabel'}\n",
            "4it [00:05,  1.27s/it]\n",
            "label_names for img5 {0: 'facade', 8: 'molding', 9: 'pillar', 10: 'shop', 255: 'unlabel'}\n",
            "5it [00:06,  1.20s/it]\n",
            "label_names for img6 {0: 'facade', 9: 'pillar', 10: 'shop', 255: 'unlabel'}\n",
            "6it [00:07,  1.13s/it]\n",
            "label_names for img7 {0: 'facade', 10: 'shop', 255: 'unlabel'}\n",
            "7it [00:08,  1.07s/it]\n",
            "label_names for img8 {0: 'facade', 10: 'shop', 255: 'unlabel'}\n",
            "8it [00:09,  1.22s/it]\n"
          ]
        }
      ]
    },
    {
      "cell_type": "code",
      "source": [
        "!python tools/train.py --save_folder predictions --root_dir images_folder"
      ],
      "metadata": {
        "id": "jKWqtiCSpz0c",
        "colab": {
          "base_uri": "https://localhost:8080/"
        },
        "outputId": "0a4f9a8e-f555-4715-e2be-d52beb078a3f"
      },
      "execution_count": 21,
      "outputs": [
        {
          "output_type": "stream",
          "name": "stdout",
          "text": [
            "/usr/local/lib/python3.8/dist-packages/mmcv/__init__.py:20: UserWarning: On January 1, 2023, MMCV will release v2.0.0, in which it will remove components related to the training process and add a data transformation module. In addition, it will rename the package names mmcv to mmcv-lite and mmcv-full to mmcv. See https://github.com/open-mmlab/mmcv/blob/master/docs/en/compatibility.md for more details.\n",
            "  warnings.warn(\n",
            "[2023-03-06 14:42:14,391 INFO train.py line 324 1556] base_size: 720\n",
            "cam_id: None\n",
            "dataset_lib: dataset\n",
            "distributed: False\n",
            "emb_path: models/universal_cat2vec.npy\n",
            "emd_method: embeddings\n",
            "gpus_num: 1\n",
            "ignore_label: 255\n",
            "img_file_type: jpeg\n",
            "img_folder: image_\n",
            "logit_softmax_weight: 500\n",
            "model_path: models/segformer_7data.pth\n",
            "multi_scale_multi_crop: False\n",
            "new_definitions: None\n",
            "num_model_classes: 512\n",
            "num_train_classes: 194\n",
            "root_dir: images_folder\n",
            "save_folder: predictions\n",
            "scales: [1.0]\n",
            "single_scale_multi_crop: False\n",
            "single_scale_single_crop: True\n",
            "test_gpu: [0]\n",
            "test_h: 640\n",
            "test_w: 640\n",
            "test_with_embeddings: False\n",
            "user_label: None\n",
            "dataset paths loaded\n",
            "loading model...\n",
            "cuda\n",
            "model loaded\n",
            "19\n",
            "epoch 1 loss = 0.5691657632786706 \n",
            "tools/train.py:171: UserWarning: To copy construct from a tensor, it is recommended to use sourceTensor.clone().detach() or sourceTensor.clone().detach().requires_grad_(True), rather than torch.tensor(sourceTensor).\n",
            "  out_logit_transposed = torch.tensor(torch.from_numpy(out_logit_transposed[None,...]), device = device, requires_grad = False)\n",
            "Training Loss: \n",
            "[0.5691657632786706]\n",
            "Testing Metrics: \n",
            "F1 Score: \n",
            "[0.48263829946517944]\n",
            "Test Accuracy: \n",
            "[0.9196077585220337]\n",
            "Test Recall: \n",
            "[0.4710467457771301]\n",
            "19\n",
            "epoch 2 loss = 0.47909421940019586 \n",
            "Training Loss: \n",
            "[0.5691657632786706, 0.47909421940019586]\n",
            "Testing Metrics: \n",
            "F1 Score: \n",
            "[0.48263829946517944, 0.50749272108078]\n",
            "Test Accuracy: \n",
            "[0.9196077585220337, 0.9226011037826538]\n",
            "Test Recall: \n",
            "[0.4710467457771301, 0.5006399750709534]\n",
            "19\n",
            "epoch 3 loss = 0.4277205914258957 \n",
            "Training Loss: \n",
            "[0.5691657632786706, 0.47909421940019586, 0.4277205914258957]\n",
            "Testing Metrics: \n",
            "F1 Score: \n",
            "[0.48263829946517944, 0.50749272108078, 0.5145714282989502]\n",
            "Test Accuracy: \n",
            "[0.9196077585220337, 0.9226011037826538, 0.9231127500534058]\n",
            "Test Recall: \n",
            "[0.4710467457771301, 0.5006399750709534, 0.5110644698143005]\n"
          ]
        }
      ]
    },
    {
      "cell_type": "code",
      "source": [],
      "metadata": {
        "id": "GD4YnhTUlzrz"
      },
      "execution_count": null,
      "outputs": []
    }
  ]
}